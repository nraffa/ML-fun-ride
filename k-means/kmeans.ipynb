{
 "cells": [
  {
   "cell_type": "code",
   "execution_count": 1,
   "metadata": {},
   "outputs": [],
   "source": [
    "import pandas as pd\n",
    "import numpy as np\n",
    "import matplotlib.pyplot as plt\n",
    "import seaborn as sns"
   ]
  },
  {
   "cell_type": "markdown",
   "metadata": {},
   "source": [
    "### Load the crime data from the city of Buenos Aires of 2021"
   ]
  },
  {
   "cell_type": "code",
   "execution_count": 2,
   "metadata": {},
   "outputs": [],
   "source": [
    "#load the buenos aires crime dataset of 2021\n",
    "df = pd.read_csv('C:\\\\Users\\\\nicor\\\\OneDrive\\\\Documentos\\\\Python\\\\Datacamp\\\\ML fun ride\\\\buenos_aires_crime_2021.csv',sep=';')"
   ]
  },
  {
   "cell_type": "markdown",
   "metadata": {},
   "source": [
    "### Data Exploration"
   ]
  },
  {
   "cell_type": "code",
   "execution_count": 3,
   "metadata": {},
   "outputs": [
    {
     "data": {
      "text/html": [
       "<div>\n",
       "<style scoped>\n",
       "    .dataframe tbody tr th:only-of-type {\n",
       "        vertical-align: middle;\n",
       "    }\n",
       "\n",
       "    .dataframe tbody tr th {\n",
       "        vertical-align: top;\n",
       "    }\n",
       "\n",
       "    .dataframe thead th {\n",
       "        text-align: right;\n",
       "    }\n",
       "</style>\n",
       "<table border=\"1\" class=\"dataframe\">\n",
       "  <thead>\n",
       "    <tr style=\"text-align: right;\">\n",
       "      <th></th>\n",
       "      <th>id-mapa</th>\n",
       "      <th>anio</th>\n",
       "      <th>mes</th>\n",
       "      <th>dia</th>\n",
       "      <th>fecha</th>\n",
       "      <th>franja</th>\n",
       "      <th>tipo</th>\n",
       "      <th>subtipo</th>\n",
       "      <th>uso_armas</th>\n",
       "      <th>barrio</th>\n",
       "      <th>comuna</th>\n",
       "      <th>latitud</th>\n",
       "      <th>longitud</th>\n",
       "      <th>cantidad</th>\n",
       "    </tr>\n",
       "  </thead>\n",
       "  <tbody>\n",
       "    <tr>\n",
       "      <th>0</th>\n",
       "      <td>HC-2021-1008202</td>\n",
       "      <td>2021</td>\n",
       "      <td>Enero</td>\n",
       "      <td>Miércoles</td>\n",
       "      <td>06/01/2021</td>\n",
       "      <td>18</td>\n",
       "      <td>Homicidio</td>\n",
       "      <td>Siniestro Vial</td>\n",
       "      <td>NaN</td>\n",
       "      <td>Constitución</td>\n",
       "      <td>1.0</td>\n",
       "      <td>-34,62761</td>\n",
       "      <td>-58,379146</td>\n",
       "      <td>1.0</td>\n",
       "    </tr>\n",
       "    <tr>\n",
       "      <th>1</th>\n",
       "      <td>HC-2021-1009094</td>\n",
       "      <td>2021</td>\n",
       "      <td>Enero</td>\n",
       "      <td>Jueves</td>\n",
       "      <td>07/01/2021</td>\n",
       "      <td>10</td>\n",
       "      <td>Homicidio</td>\n",
       "      <td>Siniestro Vial</td>\n",
       "      <td>NaN</td>\n",
       "      <td>Mataderos</td>\n",
       "      <td>9.0</td>\n",
       "      <td>-34,64972969</td>\n",
       "      <td>-58,51058958</td>\n",
       "      <td>1.0</td>\n",
       "    </tr>\n",
       "    <tr>\n",
       "      <th>2</th>\n",
       "      <td>HC-2021-1013236</td>\n",
       "      <td>2021</td>\n",
       "      <td>Enero</td>\n",
       "      <td>Domingo</td>\n",
       "      <td>10/01/2021</td>\n",
       "      <td>7</td>\n",
       "      <td>Homicidio</td>\n",
       "      <td>Siniestro Vial</td>\n",
       "      <td>NaN</td>\n",
       "      <td>Parque Chacabuco</td>\n",
       "      <td>7.0</td>\n",
       "      <td>-34,62917196</td>\n",
       "      <td>-58,43058079</td>\n",
       "      <td>1.0</td>\n",
       "    </tr>\n",
       "    <tr>\n",
       "      <th>3</th>\n",
       "      <td>HC-2021-1014154</td>\n",
       "      <td>2021</td>\n",
       "      <td>Enero</td>\n",
       "      <td>Lunes</td>\n",
       "      <td>11/01/2021</td>\n",
       "      <td>9</td>\n",
       "      <td>Homicidio</td>\n",
       "      <td>Siniestro Vial</td>\n",
       "      <td>NaN</td>\n",
       "      <td>Nueva Pompeya</td>\n",
       "      <td>5.0</td>\n",
       "      <td>-34,63867577</td>\n",
       "      <td>-58,4145554</td>\n",
       "      <td>1.0</td>\n",
       "    </tr>\n",
       "    <tr>\n",
       "      <th>4</th>\n",
       "      <td>HC-2021-1015476</td>\n",
       "      <td>2021</td>\n",
       "      <td>Enero</td>\n",
       "      <td>Lunes</td>\n",
       "      <td>11/01/2021</td>\n",
       "      <td>21</td>\n",
       "      <td>Homicidio</td>\n",
       "      <td>Siniestro Vial</td>\n",
       "      <td>NaN</td>\n",
       "      <td>Parque Avellaneda</td>\n",
       "      <td>9.0</td>\n",
       "      <td>-34,64771436</td>\n",
       "      <td>-58,46806552</td>\n",
       "      <td>1.0</td>\n",
       "    </tr>\n",
       "  </tbody>\n",
       "</table>\n",
       "</div>"
      ],
      "text/plain": [
       "           id-mapa  anio    mes        dia       fecha franja       tipo  \\\n",
       "0  HC-2021-1008202  2021  Enero  Miércoles  06/01/2021     18  Homicidio   \n",
       "1  HC-2021-1009094  2021  Enero     Jueves  07/01/2021     10  Homicidio   \n",
       "2  HC-2021-1013236  2021  Enero    Domingo  10/01/2021      7  Homicidio   \n",
       "3  HC-2021-1014154  2021  Enero      Lunes  11/01/2021      9  Homicidio   \n",
       "4  HC-2021-1015476  2021  Enero      Lunes  11/01/2021     21  Homicidio   \n",
       "\n",
       "          subtipo uso_armas             barrio  comuna       latitud  \\\n",
       "0  Siniestro Vial       NaN       Constitución     1.0     -34,62761   \n",
       "1  Siniestro Vial       NaN          Mataderos     9.0  -34,64972969   \n",
       "2  Siniestro Vial       NaN   Parque Chacabuco     7.0  -34,62917196   \n",
       "3  Siniestro Vial       NaN      Nueva Pompeya     5.0  -34,63867577   \n",
       "4  Siniestro Vial       NaN  Parque Avellaneda     9.0  -34,64771436   \n",
       "\n",
       "       longitud  cantidad  \n",
       "0    -58,379146       1.0  \n",
       "1  -58,51058958       1.0  \n",
       "2  -58,43058079       1.0  \n",
       "3   -58,4145554       1.0  \n",
       "4  -58,46806552       1.0  "
      ]
     },
     "execution_count": 3,
     "metadata": {},
     "output_type": "execute_result"
    }
   ],
   "source": [
    "#short EDA on the dataset\n",
    "df.head()"
   ]
  },
  {
   "cell_type": "code",
   "execution_count": 4,
   "metadata": {},
   "outputs": [
    {
     "name": "stdout",
     "output_type": "stream",
     "text": [
      "<class 'pandas.core.frame.DataFrame'>\n",
      "RangeIndex: 88567 entries, 0 to 88566\n",
      "Data columns (total 14 columns):\n",
      " #   Column     Non-Null Count  Dtype  \n",
      "---  ------     --------------  -----  \n",
      " 0   id-mapa    88567 non-null  object \n",
      " 1   anio       88567 non-null  int64  \n",
      " 2   mes        88567 non-null  object \n",
      " 3   dia        88567 non-null  object \n",
      " 4   fecha      88567 non-null  object \n",
      " 5   franja     88567 non-null  object \n",
      " 6   tipo       88567 non-null  object \n",
      " 7   subtipo    16321 non-null  object \n",
      " 8   uso_armas  8472 non-null   object \n",
      " 9   barrio     87390 non-null  object \n",
      " 10  comuna     87907 non-null  float64\n",
      " 11  latitud    88567 non-null  object \n",
      " 12  longitud   88567 non-null  object \n",
      " 13  cantidad   7299 non-null   float64\n",
      "dtypes: float64(2), int64(1), object(11)\n",
      "memory usage: 9.5+ MB\n"
     ]
    }
   ],
   "source": [
    "df.info()"
   ]
  },
  {
   "cell_type": "code",
   "execution_count": 5,
   "metadata": {},
   "outputs": [
    {
     "data": {
      "text/html": [
       "<div>\n",
       "<style scoped>\n",
       "    .dataframe tbody tr th:only-of-type {\n",
       "        vertical-align: middle;\n",
       "    }\n",
       "\n",
       "    .dataframe tbody tr th {\n",
       "        vertical-align: top;\n",
       "    }\n",
       "\n",
       "    .dataframe thead th {\n",
       "        text-align: right;\n",
       "    }\n",
       "</style>\n",
       "<table border=\"1\" class=\"dataframe\">\n",
       "  <thead>\n",
       "    <tr style=\"text-align: right;\">\n",
       "      <th></th>\n",
       "      <th>anio</th>\n",
       "      <th>comuna</th>\n",
       "      <th>cantidad</th>\n",
       "    </tr>\n",
       "  </thead>\n",
       "  <tbody>\n",
       "    <tr>\n",
       "      <th>count</th>\n",
       "      <td>88567.0</td>\n",
       "      <td>87907.000000</td>\n",
       "      <td>7299.000000</td>\n",
       "    </tr>\n",
       "    <tr>\n",
       "      <th>mean</th>\n",
       "      <td>2021.0</td>\n",
       "      <td>7.538899</td>\n",
       "      <td>1.158515</td>\n",
       "    </tr>\n",
       "    <tr>\n",
       "      <th>std</th>\n",
       "      <td>0.0</td>\n",
       "      <td>4.554293</td>\n",
       "      <td>0.557664</td>\n",
       "    </tr>\n",
       "    <tr>\n",
       "      <th>min</th>\n",
       "      <td>2021.0</td>\n",
       "      <td>0.000000</td>\n",
       "      <td>1.000000</td>\n",
       "    </tr>\n",
       "    <tr>\n",
       "      <th>25%</th>\n",
       "      <td>2021.0</td>\n",
       "      <td>4.000000</td>\n",
       "      <td>1.000000</td>\n",
       "    </tr>\n",
       "    <tr>\n",
       "      <th>50%</th>\n",
       "      <td>2021.0</td>\n",
       "      <td>7.000000</td>\n",
       "      <td>1.000000</td>\n",
       "    </tr>\n",
       "    <tr>\n",
       "      <th>75%</th>\n",
       "      <td>2021.0</td>\n",
       "      <td>12.000000</td>\n",
       "      <td>1.000000</td>\n",
       "    </tr>\n",
       "    <tr>\n",
       "      <th>max</th>\n",
       "      <td>2021.0</td>\n",
       "      <td>15.000000</td>\n",
       "      <td>10.000000</td>\n",
       "    </tr>\n",
       "  </tbody>\n",
       "</table>\n",
       "</div>"
      ],
      "text/plain": [
       "          anio        comuna     cantidad\n",
       "count  88567.0  87907.000000  7299.000000\n",
       "mean    2021.0      7.538899     1.158515\n",
       "std        0.0      4.554293     0.557664\n",
       "min     2021.0      0.000000     1.000000\n",
       "25%     2021.0      4.000000     1.000000\n",
       "50%     2021.0      7.000000     1.000000\n",
       "75%     2021.0     12.000000     1.000000\n",
       "max     2021.0     15.000000    10.000000"
      ]
     },
     "execution_count": 5,
     "metadata": {},
     "output_type": "execute_result"
    }
   ],
   "source": [
    "df.describe()"
   ]
  },
  {
   "cell_type": "markdown",
   "metadata": {},
   "source": [
    "### dataset preparation"
   ]
  },
  {
   "cell_type": "code",
   "execution_count": 6,
   "metadata": {},
   "outputs": [
    {
     "data": {
      "text/plain": [
       "Index(['id-mapa', 'anio', 'mes', 'dia', 'fecha', 'franja', 'tipo', 'subtipo',\n",
       "       'uso_armas', 'barrio', 'comuna', 'latitud', 'longitud', 'cantidad'],\n",
       "      dtype='object')"
      ]
     },
     "execution_count": 6,
     "metadata": {},
     "output_type": "execute_result"
    }
   ],
   "source": [
    "df.columns"
   ]
  },
  {
   "cell_type": "code",
   "execution_count": 7,
   "metadata": {},
   "outputs": [],
   "source": [
    "#convert the date column to datetime\n",
    "df['date'] = pd.to_datetime(df['fecha'], dayfirst=True)\n",
    "\n",
    "#encode the mes variable to a numerical variable\n",
    "df['month_num'] = pd.to_datetime(df['fecha']).dt.month\n",
    "\n",
    "#encode the dia variable to a numerical variable (1-7)\n",
    "df['day_of_week'] = pd.to_datetime(df['fecha']).dt.dayofweek\n",
    "\n",
    "#drop unnecesary columns\n",
    "df.drop(columns=['id-mapa','anio','mes','dia','fecha','latitud','longitud'], inplace=True) "
   ]
  },
  {
   "cell_type": "code",
   "execution_count": 8,
   "metadata": {},
   "outputs": [],
   "source": [
    "#rename the columns\n",
    "df.rename(columns={'tipo':'crime_type','franja':'time_span','subtipo':'crime_subtype',\n",
    "'uso_armas':'weapon_use','barrio': 'district','comuna': 'neighborhood',\n",
    " 'cantidad': 'quantity'}, inplace=True)"
   ]
  },
  {
   "cell_type": "code",
   "execution_count": 9,
   "metadata": {},
   "outputs": [
    {
     "name": "stdout",
     "output_type": "stream",
     "text": [
      "Missing values in the dataset:\n",
      "time_span            0\n",
      "crime_type           0\n",
      "crime_subtype    70801\n",
      "weapon_use       78611\n",
      "district          1110\n",
      "neighborhood       593\n",
      "quantity         79713\n",
      "date                 0\n",
      "month_num            0\n",
      "day_of_week          0\n",
      "dtype: int64\n",
      "\n",
      "The quantity of rows before 88567 and after 85901 the missing values treatment \n",
      "\n",
      "Missing values in the dataset:\n",
      "time_span       0\n",
      "crime_type      0\n",
      "weapon_use      0\n",
      "district        0\n",
      "neighborhood    0\n",
      "date            0\n",
      "month_num       0\n",
      "day_of_week     0\n",
      "dtype: int64\n"
     ]
    }
   ],
   "source": [
    "df_kmeans = df.copy(deep=True)\n",
    "\n",
    "#deal with missing values\n",
    "df_kmeans = df_kmeans[(df_kmeans['time_span'] != 'SD') &\n",
    "                    (df_kmeans['time_span'] != 'sd') ].reset_index(drop=True)\n",
    "\n",
    "#transform the time_span variable to a numerical variable\n",
    "df_kmeans['time_span'] = df_kmeans['time_span'].astype(int)\n",
    "\n",
    "#let's see the null values of the dataset\n",
    "print('Missing values in the dataset:')\n",
    "print(df_kmeans.isnull().sum())\n",
    "\n",
    "#drop the quantity and crime_subtype columns as they have too many missing values\n",
    "df_kmeans.drop(columns=['crime_subtype','quantity'], inplace=True) \n",
    "\n",
    "#drop the na values from district and neighborhood\n",
    "df_kmeans.dropna(subset=['district','neighborhood'], inplace=True)\n",
    "\n",
    "#assume that the missing values from the weapon_use column are that the person did not use any weapon\n",
    "df_kmeans['weapon_use'] = df_kmeans['weapon_use'].fillna('No weapons used')\n",
    "\n",
    "#see the shape of the dataset before and after the missing values treatment\n",
    "print(f'\\nThe quantity of rows before {df.shape[0]} and after {df_kmeans.shape[0]} the missing values treatment \\n')\n",
    "\n",
    "print('Missing values in the dataset:')\n",
    "print(df_kmeans.isnull().sum())"
   ]
  },
  {
   "cell_type": "code",
   "execution_count": 10,
   "metadata": {},
   "outputs": [
    {
     "name": "stdout",
     "output_type": "stream",
     "text": [
      "The crime_type column:\n",
      "['Homicidio' 'Lesiones' 'Robo (con violencia)' 'Hurto (sin violencia)']\n",
      "\n",
      "The crime_type column after the translation\n",
      "['Homicide' 'Injury' 'Theft (with violence)' 'Petty Larceny']\n",
      "\n",
      "The weapon_use column:\n",
      "['No weapons used' 'Arma cortante' 'Arma de fuego']\n",
      "\n",
      "The weapon_use column after the translation\n",
      "['No weapons used' 'Stabbing weapon' 'Firearm']\n"
     ]
    }
   ],
   "source": [
    "print('The crime_type column:')\n",
    "print(df_kmeans.crime_type.unique())\n",
    "\n",
    "#translate values of the crime_type column into english\n",
    "df_kmeans['crime_type'] = df_kmeans['crime_type'].replace({'Homicidio':'Homicide',\n",
    "                                                                'Lesiones':'Injury',\n",
    "                                                                'Robo (con violencia)':'Theft (with violence)',\n",
    "                                                                'Hurto (sin violencia)':'Petty Larceny'})\n",
    "\n",
    "print('\\nThe crime_type column after the translation')\n",
    "print(df_kmeans.crime_type.unique())\n",
    "\n",
    "print('\\nThe weapon_use column:')\n",
    "print(df_kmeans.weapon_use.unique())\n",
    "\n",
    "#translate values of the weapon_use column into english\n",
    "df_kmeans['weapon_use'] = df_kmeans['weapon_use'].replace({'Arma de fuego':'Firearm',\n",
    "                                                            'Arma cortante': 'Stabbing weapon'})\n",
    "print('\\nThe weapon_use column after the translation')\n",
    "print(df_kmeans.weapon_use.unique())"
   ]
  },
  {
   "cell_type": "code",
   "execution_count": 11,
   "metadata": {},
   "outputs": [
    {
     "data": {
      "text/plain": [
       "array(['No weapons used', 'Stabbing weapon', 'Firearm'], dtype=object)"
      ]
     },
     "execution_count": 11,
     "metadata": {},
     "output_type": "execute_result"
    }
   ],
   "source": [
    "df_kmeans.weapon_use.unique()"
   ]
  },
  {
   "cell_type": "markdown",
   "metadata": {},
   "source": [
    "##### Encoding categorical data"
   ]
  },
  {
   "cell_type": "code",
   "execution_count": 12,
   "metadata": {},
   "outputs": [],
   "source": [
    "#Using sckit-learn's LabelEncoder for the barrio categorical feature\n",
    "from sklearn.preprocessing import LabelEncoder\n",
    "\n",
    "# Set up the LabelEncoder object\n",
    "enc = LabelEncoder()\n",
    "\n",
    "#Apply the encoding to the barrio feature\n",
    "df_kmeans['district_enc'] = enc.fit_transform(df_kmeans['district'])\n",
    "\n",
    "#Create a new encoded column with 0 to the no weapon used values, 1 to the stabbings and 2 to the firearms\n",
    "df_kmeans['weapon_use_enc'] = df_kmeans['weapon_use'].map({'No weapons used':0,\n",
    "                                                            'Stabbing weapon':1,\n",
    "                                                            'Firearm':2})\n"
   ]
  },
  {
   "cell_type": "code",
   "execution_count": 13,
   "metadata": {},
   "outputs": [
    {
     "name": "stdout",
     "output_type": "stream",
     "text": [
      "The two columns of barrio before and after the encoding\n",
      "             district  district_enc\n",
      "0        Constitución            11\n",
      "1           Mataderos            15\n",
      "2    Parque Chacabuco            23\n",
      "3       Nueva Pompeya            18\n",
      "4   Parque Avellaneda            22\n",
      "5             Palermo            21\n",
      "6         Parque Chas            24\n",
      "7           Caballito             7\n",
      "8            Saavedra            30\n",
      "9            Recoleta            28\n",
      "10       Villa Lugano            39\n",
      "11    Vélez Sársfield            48\n",
      "12   Villa Del Parque            36\n",
      "13          Agronomía             0\n",
      "14           Barracas             3\n",
      "15      Villa Urquiza            47\n",
      "16            Almagro             1\n",
      "17          Balvanera             2\n",
      "18               Boca             5\n",
      "19           Belgrano             4\n",
      "20             Flores            12\n",
      "21          Monserrat            16\n",
      "22              Boedo             6\n",
      "23   Parque Patricios            25\n",
      "24      Villa Soldati            46\n",
      "25       Villa Devoto            37\n",
      "26              Nuñez            20\n",
      "27            Liniers            14\n",
      "28          Chacarita             8\n",
      "29       Villa Crespo            35\n",
      "30      San Cristóbal            31\n",
      "31         Villa Real            43\n",
      "32             Retiro            29\n",
      "33   Villa Pueyrredón            42\n",
      "34   Villa Santa Rita            45\n",
      "35        San Nicolás            32\n",
      "36       Monte Castro            17\n",
      "37    Villa Riachuelo            44\n",
      "38           Paternal            26\n",
      "39          San Telmo            33\n",
      "40      Villa Ortuzar            41\n",
      "41         Colegiales            10\n",
      "42      Nueva pompeya            19\n",
      "43      Puerto Madero            27\n",
      "44         Villa Luro            40\n",
      "45           Floresta            13\n",
      "46            Coghlan             9\n",
      "47          Versalles            34\n",
      "48  Villa Gral. Mitre            38\n",
      "\n",
      "\n",
      "The two columns of uso_armas before and after the encoding\n",
      "        weapon_use  weapon_use_enc\n",
      "0  No weapons used               0\n",
      "1  Stabbing weapon               1\n",
      "2          Firearm               2\n"
     ]
    }
   ],
   "source": [
    "#save the encoded categorical features\n",
    "encoding_df = df_kmeans[['district', 'district_enc','weapon_use', 'weapon_use_enc']].drop_duplicates().reset_index(drop=True)\n",
    "\n",
    "# Compare the two columns (sckit label encoder)\n",
    "print('The two columns of barrio before and after the encoding')\n",
    "print(df_kmeans[['district','district_enc']].drop_duplicates().reset_index(drop=True))\n",
    "print('\\n')\n",
    "print('The two columns of uso_armas before and after the encoding')\n",
    "print(df_kmeans[['weapon_use','weapon_use_enc']].drop_duplicates().reset_index(drop=True))\n",
    "\n",
    "#drop the categorical features\n",
    "df_kmeans.drop(columns=['district','weapon_use'], inplace=True)"
   ]
  },
  {
   "cell_type": "code",
   "execution_count": 14,
   "metadata": {},
   "outputs": [
    {
     "data": {
      "text/html": [
       "<div>\n",
       "<style scoped>\n",
       "    .dataframe tbody tr th:only-of-type {\n",
       "        vertical-align: middle;\n",
       "    }\n",
       "\n",
       "    .dataframe tbody tr th {\n",
       "        vertical-align: top;\n",
       "    }\n",
       "\n",
       "    .dataframe thead th {\n",
       "        text-align: right;\n",
       "    }\n",
       "</style>\n",
       "<table border=\"1\" class=\"dataframe\">\n",
       "  <thead>\n",
       "    <tr style=\"text-align: right;\">\n",
       "      <th></th>\n",
       "      <th>time_span</th>\n",
       "      <th>crime_type</th>\n",
       "      <th>neighborhood</th>\n",
       "      <th>date</th>\n",
       "      <th>month_num</th>\n",
       "      <th>day_of_week</th>\n",
       "      <th>district_enc</th>\n",
       "      <th>weapon_use_enc</th>\n",
       "    </tr>\n",
       "  </thead>\n",
       "  <tbody>\n",
       "    <tr>\n",
       "      <th>0</th>\n",
       "      <td>18</td>\n",
       "      <td>Homicide</td>\n",
       "      <td>1.0</td>\n",
       "      <td>2021-01-06</td>\n",
       "      <td>6</td>\n",
       "      <td>1</td>\n",
       "      <td>11</td>\n",
       "      <td>0</td>\n",
       "    </tr>\n",
       "    <tr>\n",
       "      <th>1</th>\n",
       "      <td>10</td>\n",
       "      <td>Homicide</td>\n",
       "      <td>9.0</td>\n",
       "      <td>2021-01-07</td>\n",
       "      <td>7</td>\n",
       "      <td>3</td>\n",
       "      <td>15</td>\n",
       "      <td>0</td>\n",
       "    </tr>\n",
       "    <tr>\n",
       "      <th>2</th>\n",
       "      <td>7</td>\n",
       "      <td>Homicide</td>\n",
       "      <td>7.0</td>\n",
       "      <td>2021-01-10</td>\n",
       "      <td>10</td>\n",
       "      <td>4</td>\n",
       "      <td>23</td>\n",
       "      <td>0</td>\n",
       "    </tr>\n",
       "    <tr>\n",
       "      <th>3</th>\n",
       "      <td>9</td>\n",
       "      <td>Homicide</td>\n",
       "      <td>5.0</td>\n",
       "      <td>2021-01-11</td>\n",
       "      <td>11</td>\n",
       "      <td>0</td>\n",
       "      <td>18</td>\n",
       "      <td>0</td>\n",
       "    </tr>\n",
       "    <tr>\n",
       "      <th>4</th>\n",
       "      <td>21</td>\n",
       "      <td>Homicide</td>\n",
       "      <td>9.0</td>\n",
       "      <td>2021-01-11</td>\n",
       "      <td>11</td>\n",
       "      <td>0</td>\n",
       "      <td>22</td>\n",
       "      <td>0</td>\n",
       "    </tr>\n",
       "  </tbody>\n",
       "</table>\n",
       "</div>"
      ],
      "text/plain": [
       "   time_span crime_type  neighborhood       date  month_num  day_of_week  \\\n",
       "0         18   Homicide           1.0 2021-01-06          6            1   \n",
       "1         10   Homicide           9.0 2021-01-07          7            3   \n",
       "2          7   Homicide           7.0 2021-01-10         10            4   \n",
       "3          9   Homicide           5.0 2021-01-11         11            0   \n",
       "4         21   Homicide           9.0 2021-01-11         11            0   \n",
       "\n",
       "   district_enc  weapon_use_enc  \n",
       "0            11               0  \n",
       "1            15               0  \n",
       "2            23               0  \n",
       "3            18               0  \n",
       "4            22               0  "
      ]
     },
     "execution_count": 14,
     "metadata": {},
     "output_type": "execute_result"
    }
   ],
   "source": [
    "df_kmeans.head(5)"
   ]
  },
  {
   "cell_type": "code",
   "execution_count": 15,
   "metadata": {},
   "outputs": [
    {
     "data": {
      "text/plain": [
       "Theft (with violence)    43794\n",
       "Petty Larceny            35326\n",
       "Injury                    6589\n",
       "Homicide                   192\n",
       "Name: crime_type, dtype: int64"
      ]
     },
     "execution_count": 15,
     "metadata": {},
     "output_type": "execute_result"
    }
   ],
   "source": [
    "df_kmeans.crime_type.value_counts()"
   ]
  },
  {
   "cell_type": "code",
   "execution_count": 16,
   "metadata": {},
   "outputs": [
    {
     "name": "stderr",
     "output_type": "stream",
     "text": [
      "C:\\Users\\nicor\\anaconda3\\envs\\mne3\\lib\\site-packages\\ipykernel_launcher.py:8: UserWarning: Matplotlib is currently using module://ipykernel.pylab.backend_inline, which is a non-GUI backend, so cannot show the figure.\n",
      "  \n"
     ]
    },
    {
     "data": {
      "image/png": "[encoded data removed]",
      "text/plain": [
       "<Figure size 432x288 with 1 Axes>"
      ]
     },
     "metadata": {
      "needs_background": "light"
     },
     "output_type": "display_data"
    }
   ],
   "source": [
    "#see the quantity of each type of crime in the dataset\n",
    "df_g = df_kmeans.groupby(['crime_type']).agg(quantity = pd.NamedAgg(column='crime_type', aggfunc='count')).reset_index()\n",
    "\n",
    "#plot the quantity of each type of crime\n",
    "fig, ax = plt.subplots() #1,figsize=(15,5))\n",
    "sns.barplot(x='crime_type', y= 'quantity' , data=df_g )\n",
    "plt.xticks(rotation=45)\n",
    "fig.show()"
   ]
  },
  {
   "cell_type": "markdown",
   "metadata": {},
   "source": [
    "### Assign numerical values to the crime_type variable according to the severity of the crime"
   ]
  },
  {
   "cell_type": "code",
   "execution_count": 17,
   "metadata": {},
   "outputs": [],
   "source": [
    "#Create a dictionary with the severity to each crime type\n",
    "severity_dict = {'Petty Larceny':0,\n",
    "                 'Theft (with violence)':1,\n",
    "                 'Injury':2,\n",
    "                 'Homicide':3\n",
    "}\n",
    "\n",
    "#Assign the severity to each crime type\n",
    "df_kmeans['severity'] = df_kmeans['crime_type'].map(severity_dict)"
   ]
  },
  {
   "cell_type": "markdown",
   "metadata": {},
   "source": [
    "##### if the crime was commited using a weapon, the severity increses"
   ]
  },
  {
   "cell_type": "code",
   "execution_count": 18,
   "metadata": {},
   "outputs": [],
   "source": [
    "#add to the severity column the severity of use of weapons\n",
    "df_kmeans['severity'] = df_kmeans['severity'] + df_kmeans['weapon_use_enc']"
   ]
  },
  {
   "cell_type": "markdown",
   "metadata": {},
   "source": [
    "#### Correlation between variables"
   ]
  },
  {
   "cell_type": "code",
   "execution_count": 19,
   "metadata": {},
   "outputs": [
    {
     "data": {
      "image/png": "[encoded data removed]",
      "text/plain": [
       "<Figure size 432x288 with 2 Axes>"
      ]
     },
     "metadata": {
      "needs_background": "light"
     },
     "output_type": "display_data"
    }
   ],
   "source": [
    "#Analyze correlation between variables\n",
    "corr = df_kmeans.corr()\n",
    "sns.heatmap(corr, xticklabels=corr.columns.values, yticklabels=corr.columns.values, annot=True, cmap='RdYlGn')\n",
    "plt.show()"
   ]
  },
  {
   "cell_type": "markdown",
   "metadata": {},
   "source": [
    "### K-Means ###"
   ]
  },
  {
   "cell_type": "code",
   "execution_count": 20,
   "metadata": {},
   "outputs": [],
   "source": [
    "# Import KNeighborsClassifier from sklearn.neighbors\n",
    "from sklearn.neighbors import KNeighborsClassifier"
   ]
  },
  {
   "cell_type": "code",
   "execution_count": 21,
   "metadata": {},
   "outputs": [],
   "source": [
    "# Create arrays for the features and the response variable\n",
    "x = df_kmeans.drop(['date','crime_type','severity'], axis=1).values\n",
    "y = df_kmeans['severity'].values"
   ]
  },
  {
   "cell_type": "markdown",
   "metadata": {},
   "source": [
    "#### Split the data into training and testing sets"
   ]
  },
  {
   "cell_type": "code",
   "execution_count": 22,
   "metadata": {},
   "outputs": [],
   "source": [
    "from sklearn.model_selection import train_test_split"
   ]
  },
  {
   "cell_type": "code",
   "execution_count": 23,
   "metadata": {},
   "outputs": [],
   "source": [
    "#split the data\n",
    "x_train, x_test, y_train, y_test = train_test_split(x, y, test_size=0.2, random_state=42, stratify=y)"
   ]
  },
  {
   "cell_type": "code",
   "execution_count": 24,
   "metadata": {},
   "outputs": [],
   "source": [
    "#Setup arrays to store train and test accuracies\n",
    "neighbors = np.arange(1, 9)\n",
    "train_accuracy = np.empty(len(neighbors))\n",
    "test_accuracy = np.empty(len(neighbors))"
   ]
  },
  {
   "cell_type": "code",
   "execution_count": 25,
   "metadata": {},
   "outputs": [],
   "source": [
    "#loop over different values of k\n",
    "\n",
    "for i,k in enumerate(neighbors):\n",
    "    # Setup a k-NN Classifier with k neighbors: knn\n",
    "    knn = KNeighborsClassifier(n_neighbors=k)\n",
    "\n",
    "    # Fit the classifier to the training data\n",
    "    knn.fit(x_train, y_train)\n",
    "    \n",
    "    #Compute accuracy on the training set\n",
    "    train_accuracy[i] = knn.score(x_train, y_train)\n",
    "    \n",
    "    #Compute accuracy on the testing set\n",
    "    test_accuracy[i] = knn.score(x_test, y_test)"
   ]
  },
  {
   "cell_type": "code",
   "execution_count": 26,
   "metadata": {},
   "outputs": [
    {
     "data": {
      "image/png": "[encoded data removed]",
      "text/plain": [
       "<Figure size 432x288 with 1 Axes>"
      ]
     },
     "metadata": {
      "needs_background": "light"
     },
     "output_type": "display_data"
    }
   ],
   "source": [
    "# Generate plot\n",
    "plt.title('k-NN: Varying Number of Neighbors')\n",
    "plt.plot(neighbors, test_accuracy, label = 'Testing Accuracy')\n",
    "plt.plot(neighbors, train_accuracy, label = 'Training Accuracy')\n",
    "plt.legend()\n",
    "plt.xlabel('Number of Neighbors')\n",
    "plt.ylabel('Accuracy')\n",
    "#for index in range(len(neighbors)):\n",
    " # plt.text(neighbors[index], round(train_accuracy[index],2),round(train_accuracy[index],2), size = 12) #, y[index], size=12)\n",
    "plt.show()"
   ]
  },
  {
   "cell_type": "code",
   "execution_count": 35,
   "metadata": {},
   "outputs": [
    {
     "name": "stdout",
     "output_type": "stream",
     "text": [
      "The max value of train accuracy is: 0.8028812572759022 with the number of neighbors: 1\n",
      "The max value of test accuracy is: 0.48000698445957746 with the number of neighbors: 5\n"
     ]
    }
   ],
   "source": [
    "#get the max values from the train and test accuracies\n",
    "max_train = train_accuracy.max()\n",
    "max_test = test_accuracy.max()\n",
    "\n",
    "print('The max value of train accuracy is: ' + str(max_train) + ' with the number of neighbors: ' + str(neighbors[train_accuracy.argmax()]))\n",
    "print('The max value of test accuracy is: ' + str(max_test) + ' with the number of neighbors: ' + str(neighbors[test_accuracy.argmax()]))"
   ]
  },
  {
   "cell_type": "markdown",
   "metadata": {},
   "source": [
    "Conclusion:\n",
    "- The best k to select end up to be 5 as it had the highest accuracy in the training and test sets"
   ]
  },
  {
   "cell_type": "code",
   "execution_count": 38,
   "metadata": {},
   "outputs": [],
   "source": [
    "# Create a k-NN classifier with 5 neighbors\n",
    "knn = KNeighborsClassifier(n_neighbors = 5)"
   ]
  },
  {
   "cell_type": "code",
   "execution_count": 39,
   "metadata": {},
   "outputs": [
    {
     "data": {
      "text/plain": [
       "KNeighborsClassifier()"
      ]
     },
     "execution_count": 39,
     "metadata": {},
     "output_type": "execute_result"
    }
   ],
   "source": [
    "# Fit the classifier to the data\n",
    "knn.fit(x_train,y_train)"
   ]
  },
  {
   "cell_type": "code",
   "execution_count": 40,
   "metadata": {},
   "outputs": [],
   "source": [
    "#convert the x_test array into a pandas dataframe\n",
    "test_df = pd.DataFrame(x_test, columns=['time_span','neighborhood','month_num',\n",
    "'day_of_week','district_enc','weapon_use_enc'])"
   ]
  },
  {
   "cell_type": "code",
   "execution_count": 41,
   "metadata": {},
   "outputs": [],
   "source": [
    "#predictions\n",
    "prediction = knn.predict(x_test)\n",
    "\n",
    "#convert the prediction array into a pandas dataframe and add the y_test column\n",
    "prediction_df = pd.DataFrame(prediction, columns=['prediction'])\n",
    "prediction_df['y_test'] = y_test"
   ]
  },
  {
   "cell_type": "code",
   "execution_count": 57,
   "metadata": {},
   "outputs": [
    {
     "name": "stdout",
     "output_type": "stream",
     "text": [
      "The number of correct predictions is: 8247\n",
      "The number of incorrect predictions is: 8934\n",
      "In conclusion, the percentage of correct predictions is: 48.0%\n"
     ]
    }
   ],
   "source": [
    "#see how many predictions are correct\n",
    "print('The number of correct predictions is: '+ str(prediction_df[prediction_df['prediction'] == prediction_df['y_test']].shape[0]))\n",
    "\n",
    "#see how many predictions are incorrect\n",
    "print('The number of incorrect predictions is: ' + str(prediction_df[prediction_df['prediction'] != prediction_df['y_test']].shape[0]))\n",
    "\n",
    "acc = prediction_df[prediction_df['prediction'] == prediction_df['y_test']].shape[0]/prediction_df.shape[0]\n",
    "#see the percentage of correct predictions\n",
    "print('In conclusion, the percentage of correct predictions is: ' + str(round(acc,4)*100) + '%')"
   ]
  },
  {
   "cell_type": "code",
   "execution_count": 58,
   "metadata": {},
   "outputs": [],
   "source": [
    "#concatenate the test dataframe with the prediction dataframe\n",
    "test_df = pd.concat([test_df, prediction_df], axis=1)"
   ]
  }
 ],
 "metadata": {
  "interpreter": {
   "hash": "cb045d34396eb68d3c97b297eb30da544520434b295ef56e66614836264de86a"
  },
  "kernelspec": {
   "display_name": "Python 3.6.12 ('mne3')",
   "language": "python",
   "name": "python3"
  },
  "language_info": {
   "codemirror_mode": {
    "name": "ipython",
    "version": 3
   },
   "file_extension": ".py",
   "mimetype": "text/x-python",
   "name": "python",
   "nbconvert_exporter": "python",
   "pygments_lexer": "ipython3",
   "version": "3.6.12"
  },
  "orig_nbformat": 4
 },
 "nbformat": 4,
 "nbformat_minor": 2
}
