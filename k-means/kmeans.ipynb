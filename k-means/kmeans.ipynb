{
 "cells": [
  {
   "cell_type": "code",
   "execution_count": 2,
   "metadata": {},
   "outputs": [],
   "source": [
    "import pandas as pd\n",
    "import numpy as np\n",
    "import matplotlib.pyplot as plt\n",
    "import seaborn as sns"
   ]
  },
  {
   "cell_type": "markdown",
   "metadata": {},
   "source": [
    "### Load the crime data from the city of Buenos Aires of 2021"
   ]
  },
  {
   "cell_type": "code",
   "execution_count": 109,
   "metadata": {},
   "outputs": [],
   "source": [
    "#load the buenos aires crime dataset of 2021\n",
    "df = pd.read_csv('C:\\\\Users\\\\nicor\\\\OneDrive\\\\Documentos\\\\Python\\\\Datacamp\\\\ML fun ride\\\\buenos_aires_crime_2021.csv',sep=';')"
   ]
  },
  {
   "cell_type": "markdown",
   "metadata": {},
   "source": [
    "### Data Exploration"
   ]
  },
  {
   "cell_type": "code",
   "execution_count": 4,
   "metadata": {},
   "outputs": [
    {
     "data": {
      "text/html": [
       "<div>\n",
       "<style scoped>\n",
       "    .dataframe tbody tr th:only-of-type {\n",
       "        vertical-align: middle;\n",
       "    }\n",
       "\n",
       "    .dataframe tbody tr th {\n",
       "        vertical-align: top;\n",
       "    }\n",
       "\n",
       "    .dataframe thead th {\n",
       "        text-align: right;\n",
       "    }\n",
       "</style>\n",
       "<table border=\"1\" class=\"dataframe\">\n",
       "  <thead>\n",
       "    <tr style=\"text-align: right;\">\n",
       "      <th></th>\n",
       "      <th>id-mapa</th>\n",
       "      <th>anio</th>\n",
       "      <th>mes</th>\n",
       "      <th>dia</th>\n",
       "      <th>fecha</th>\n",
       "      <th>franja</th>\n",
       "      <th>tipo</th>\n",
       "      <th>subtipo</th>\n",
       "      <th>uso_armas</th>\n",
       "      <th>barrio</th>\n",
       "      <th>comuna</th>\n",
       "      <th>latitud</th>\n",
       "      <th>longitud</th>\n",
       "      <th>cantidad</th>\n",
       "    </tr>\n",
       "  </thead>\n",
       "  <tbody>\n",
       "    <tr>\n",
       "      <th>0</th>\n",
       "      <td>HC-2021-1008202</td>\n",
       "      <td>2021</td>\n",
       "      <td>Enero</td>\n",
       "      <td>Miércoles</td>\n",
       "      <td>06/01/2021</td>\n",
       "      <td>18</td>\n",
       "      <td>Homicidio</td>\n",
       "      <td>Siniestro Vial</td>\n",
       "      <td>NaN</td>\n",
       "      <td>Constitución</td>\n",
       "      <td>1.0</td>\n",
       "      <td>-34,62761</td>\n",
       "      <td>-58,379146</td>\n",
       "      <td>1.0</td>\n",
       "    </tr>\n",
       "    <tr>\n",
       "      <th>1</th>\n",
       "      <td>HC-2021-1009094</td>\n",
       "      <td>2021</td>\n",
       "      <td>Enero</td>\n",
       "      <td>Jueves</td>\n",
       "      <td>07/01/2021</td>\n",
       "      <td>10</td>\n",
       "      <td>Homicidio</td>\n",
       "      <td>Siniestro Vial</td>\n",
       "      <td>NaN</td>\n",
       "      <td>Mataderos</td>\n",
       "      <td>9.0</td>\n",
       "      <td>-34,64972969</td>\n",
       "      <td>-58,51058958</td>\n",
       "      <td>1.0</td>\n",
       "    </tr>\n",
       "    <tr>\n",
       "      <th>2</th>\n",
       "      <td>HC-2021-1013236</td>\n",
       "      <td>2021</td>\n",
       "      <td>Enero</td>\n",
       "      <td>Domingo</td>\n",
       "      <td>10/01/2021</td>\n",
       "      <td>7</td>\n",
       "      <td>Homicidio</td>\n",
       "      <td>Siniestro Vial</td>\n",
       "      <td>NaN</td>\n",
       "      <td>Parque Chacabuco</td>\n",
       "      <td>7.0</td>\n",
       "      <td>-34,62917196</td>\n",
       "      <td>-58,43058079</td>\n",
       "      <td>1.0</td>\n",
       "    </tr>\n",
       "    <tr>\n",
       "      <th>3</th>\n",
       "      <td>HC-2021-1014154</td>\n",
       "      <td>2021</td>\n",
       "      <td>Enero</td>\n",
       "      <td>Lunes</td>\n",
       "      <td>11/01/2021</td>\n",
       "      <td>9</td>\n",
       "      <td>Homicidio</td>\n",
       "      <td>Siniestro Vial</td>\n",
       "      <td>NaN</td>\n",
       "      <td>Nueva Pompeya</td>\n",
       "      <td>5.0</td>\n",
       "      <td>-34,63867577</td>\n",
       "      <td>-58,4145554</td>\n",
       "      <td>1.0</td>\n",
       "    </tr>\n",
       "    <tr>\n",
       "      <th>4</th>\n",
       "      <td>HC-2021-1015476</td>\n",
       "      <td>2021</td>\n",
       "      <td>Enero</td>\n",
       "      <td>Lunes</td>\n",
       "      <td>11/01/2021</td>\n",
       "      <td>21</td>\n",
       "      <td>Homicidio</td>\n",
       "      <td>Siniestro Vial</td>\n",
       "      <td>NaN</td>\n",
       "      <td>Parque Avellaneda</td>\n",
       "      <td>9.0</td>\n",
       "      <td>-34,64771436</td>\n",
       "      <td>-58,46806552</td>\n",
       "      <td>1.0</td>\n",
       "    </tr>\n",
       "  </tbody>\n",
       "</table>\n",
       "</div>"
      ],
      "text/plain": [
       "           id-mapa  anio    mes        dia       fecha franja       tipo  \\\n",
       "0  HC-2021-1008202  2021  Enero  Miércoles  06/01/2021     18  Homicidio   \n",
       "1  HC-2021-1009094  2021  Enero     Jueves  07/01/2021     10  Homicidio   \n",
       "2  HC-2021-1013236  2021  Enero    Domingo  10/01/2021      7  Homicidio   \n",
       "3  HC-2021-1014154  2021  Enero      Lunes  11/01/2021      9  Homicidio   \n",
       "4  HC-2021-1015476  2021  Enero      Lunes  11/01/2021     21  Homicidio   \n",
       "\n",
       "          subtipo uso_armas             barrio  comuna       latitud  \\\n",
       "0  Siniestro Vial       NaN       Constitución     1.0     -34,62761   \n",
       "1  Siniestro Vial       NaN          Mataderos     9.0  -34,64972969   \n",
       "2  Siniestro Vial       NaN   Parque Chacabuco     7.0  -34,62917196   \n",
       "3  Siniestro Vial       NaN      Nueva Pompeya     5.0  -34,63867577   \n",
       "4  Siniestro Vial       NaN  Parque Avellaneda     9.0  -34,64771436   \n",
       "\n",
       "       longitud  cantidad  \n",
       "0    -58,379146       1.0  \n",
       "1  -58,51058958       1.0  \n",
       "2  -58,43058079       1.0  \n",
       "3   -58,4145554       1.0  \n",
       "4  -58,46806552       1.0  "
      ]
     },
     "execution_count": 4,
     "metadata": {},
     "output_type": "execute_result"
    }
   ],
   "source": [
    "#short EDA on the dataset\n",
    "df.head()"
   ]
  },
  {
   "cell_type": "code",
   "execution_count": 5,
   "metadata": {},
   "outputs": [
    {
     "name": "stdout",
     "output_type": "stream",
     "text": [
      "<class 'pandas.core.frame.DataFrame'>\n",
      "RangeIndex: 88567 entries, 0 to 88566\n",
      "Data columns (total 14 columns):\n",
      " #   Column     Non-Null Count  Dtype  \n",
      "---  ------     --------------  -----  \n",
      " 0   id-mapa    88567 non-null  object \n",
      " 1   anio       88567 non-null  int64  \n",
      " 2   mes        88567 non-null  object \n",
      " 3   dia        88567 non-null  object \n",
      " 4   fecha      88567 non-null  object \n",
      " 5   franja     88567 non-null  object \n",
      " 6   tipo       88567 non-null  object \n",
      " 7   subtipo    16321 non-null  object \n",
      " 8   uso_armas  8472 non-null   object \n",
      " 9   barrio     87390 non-null  object \n",
      " 10  comuna     87907 non-null  float64\n",
      " 11  latitud    88567 non-null  object \n",
      " 12  longitud   88567 non-null  object \n",
      " 13  cantidad   7299 non-null   float64\n",
      "dtypes: float64(2), int64(1), object(11)\n",
      "memory usage: 9.5+ MB\n"
     ]
    }
   ],
   "source": [
    "df.info()"
   ]
  },
  {
   "cell_type": "code",
   "execution_count": 6,
   "metadata": {},
   "outputs": [
    {
     "data": {
      "text/html": [
       "<div>\n",
       "<style scoped>\n",
       "    .dataframe tbody tr th:only-of-type {\n",
       "        vertical-align: middle;\n",
       "    }\n",
       "\n",
       "    .dataframe tbody tr th {\n",
       "        vertical-align: top;\n",
       "    }\n",
       "\n",
       "    .dataframe thead th {\n",
       "        text-align: right;\n",
       "    }\n",
       "</style>\n",
       "<table border=\"1\" class=\"dataframe\">\n",
       "  <thead>\n",
       "    <tr style=\"text-align: right;\">\n",
       "      <th></th>\n",
       "      <th>anio</th>\n",
       "      <th>comuna</th>\n",
       "      <th>cantidad</th>\n",
       "    </tr>\n",
       "  </thead>\n",
       "  <tbody>\n",
       "    <tr>\n",
       "      <th>count</th>\n",
       "      <td>88567.0</td>\n",
       "      <td>87907.000000</td>\n",
       "      <td>7299.000000</td>\n",
       "    </tr>\n",
       "    <tr>\n",
       "      <th>mean</th>\n",
       "      <td>2021.0</td>\n",
       "      <td>7.538899</td>\n",
       "      <td>1.158515</td>\n",
       "    </tr>\n",
       "    <tr>\n",
       "      <th>std</th>\n",
       "      <td>0.0</td>\n",
       "      <td>4.554293</td>\n",
       "      <td>0.557664</td>\n",
       "    </tr>\n",
       "    <tr>\n",
       "      <th>min</th>\n",
       "      <td>2021.0</td>\n",
       "      <td>0.000000</td>\n",
       "      <td>1.000000</td>\n",
       "    </tr>\n",
       "    <tr>\n",
       "      <th>25%</th>\n",
       "      <td>2021.0</td>\n",
       "      <td>4.000000</td>\n",
       "      <td>1.000000</td>\n",
       "    </tr>\n",
       "    <tr>\n",
       "      <th>50%</th>\n",
       "      <td>2021.0</td>\n",
       "      <td>7.000000</td>\n",
       "      <td>1.000000</td>\n",
       "    </tr>\n",
       "    <tr>\n",
       "      <th>75%</th>\n",
       "      <td>2021.0</td>\n",
       "      <td>12.000000</td>\n",
       "      <td>1.000000</td>\n",
       "    </tr>\n",
       "    <tr>\n",
       "      <th>max</th>\n",
       "      <td>2021.0</td>\n",
       "      <td>15.000000</td>\n",
       "      <td>10.000000</td>\n",
       "    </tr>\n",
       "  </tbody>\n",
       "</table>\n",
       "</div>"
      ],
      "text/plain": [
       "          anio        comuna     cantidad\n",
       "count  88567.0  87907.000000  7299.000000\n",
       "mean    2021.0      7.538899     1.158515\n",
       "std        0.0      4.554293     0.557664\n",
       "min     2021.0      0.000000     1.000000\n",
       "25%     2021.0      4.000000     1.000000\n",
       "50%     2021.0      7.000000     1.000000\n",
       "75%     2021.0     12.000000     1.000000\n",
       "max     2021.0     15.000000    10.000000"
      ]
     },
     "execution_count": 6,
     "metadata": {},
     "output_type": "execute_result"
    }
   ],
   "source": [
    "df.describe()"
   ]
  },
  {
   "cell_type": "code",
   "execution_count": 7,
   "metadata": {},
   "outputs": [
    {
     "name": "stderr",
     "output_type": "stream",
     "text": [
      "C:\\Users\\nicor\\anaconda3\\envs\\mne3\\lib\\site-packages\\ipykernel_launcher.py:9: UserWarning: Matplotlib is currently using module://ipykernel.pylab.backend_inline, which is a non-GUI backend, so cannot show the figure.\n",
      "  if __name__ == '__main__':\n"
     ]
    },
    {
     "data": {
      "image/png": "[encoded data removed]",
      "text/plain": [
       "<Figure size 1080x360 with 2 Axes>"
      ]
     },
     "metadata": {
      "needs_background": "light"
     },
     "output_type": "display_data"
    }
   ],
   "source": [
    "#see the quantity of each type of crime in the dataset\n",
    "df_g = df.groupby(['tipo','subtipo']).agg(cantidad = pd.NamedAgg(column='cantidad', aggfunc='sum')).reset_index()\n",
    "\n",
    "#plot the quantity of each type of crime\n",
    "fig, ax = plt.subplots(1,2,figsize=(15,5))\n",
    "sns.countplot(x='tipo', data=df_g , ax=ax[0])\n",
    "sns.countplot(x='subtipo', data=df_g , ax=ax[1])\n",
    "plt.xticks(rotation=45)\n",
    "fig.show()"
   ]
  },
  {
   "cell_type": "code",
   "execution_count": 112,
   "metadata": {},
   "outputs": [],
   "source": [
    "#convert the date column to datetime\n",
    "df['date'] = pd.to_datetime(df['fecha'], dayfirst=True)\n",
    "\n",
    "#encode the mes variable to a numerical variable\n",
    "df['month_num'] = pd.to_datetime(df['fecha']).dt.month\n",
    "\n",
    "#encode the dia variable to a numerical variable (1-7)\n",
    "df['day_of_week'] = pd.to_datetime(df['fecha']).dt.dayofweek\n",
    "\n",
    "df.drop(columns=['mes','dia','fecha'], inplace=True)"
   ]
  },
  {
   "cell_type": "code",
   "execution_count": 113,
   "metadata": {},
   "outputs": [
    {
     "data": {
      "text/html": [
       "<div>\n",
       "<style scoped>\n",
       "    .dataframe tbody tr th:only-of-type {\n",
       "        vertical-align: middle;\n",
       "    }\n",
       "\n",
       "    .dataframe tbody tr th {\n",
       "        vertical-align: top;\n",
       "    }\n",
       "\n",
       "    .dataframe thead th {\n",
       "        text-align: right;\n",
       "    }\n",
       "</style>\n",
       "<table border=\"1\" class=\"dataframe\">\n",
       "  <thead>\n",
       "    <tr style=\"text-align: right;\">\n",
       "      <th></th>\n",
       "      <th>id-mapa</th>\n",
       "      <th>anio</th>\n",
       "      <th>fecha</th>\n",
       "      <th>franja</th>\n",
       "      <th>tipo</th>\n",
       "      <th>subtipo</th>\n",
       "      <th>uso_armas</th>\n",
       "      <th>barrio</th>\n",
       "      <th>comuna</th>\n",
       "      <th>latitud</th>\n",
       "      <th>longitud</th>\n",
       "      <th>cantidad</th>\n",
       "      <th>mes_num</th>\n",
       "      <th>dia_num</th>\n",
       "    </tr>\n",
       "  </thead>\n",
       "  <tbody>\n",
       "    <tr>\n",
       "      <th>0</th>\n",
       "      <td>HC-2021-1008202</td>\n",
       "      <td>2021</td>\n",
       "      <td>2021-01-06</td>\n",
       "      <td>18</td>\n",
       "      <td>Homicidio</td>\n",
       "      <td>Siniestro Vial</td>\n",
       "      <td>NaN</td>\n",
       "      <td>Constitución</td>\n",
       "      <td>1.0</td>\n",
       "      <td>-34,62761</td>\n",
       "      <td>-58,379146</td>\n",
       "      <td>1.0</td>\n",
       "      <td>1</td>\n",
       "      <td>2</td>\n",
       "    </tr>\n",
       "    <tr>\n",
       "      <th>1</th>\n",
       "      <td>HC-2021-1009094</td>\n",
       "      <td>2021</td>\n",
       "      <td>2021-01-07</td>\n",
       "      <td>10</td>\n",
       "      <td>Homicidio</td>\n",
       "      <td>Siniestro Vial</td>\n",
       "      <td>NaN</td>\n",
       "      <td>Mataderos</td>\n",
       "      <td>9.0</td>\n",
       "      <td>-34,64972969</td>\n",
       "      <td>-58,51058958</td>\n",
       "      <td>1.0</td>\n",
       "      <td>1</td>\n",
       "      <td>3</td>\n",
       "    </tr>\n",
       "    <tr>\n",
       "      <th>2</th>\n",
       "      <td>HC-2021-1013236</td>\n",
       "      <td>2021</td>\n",
       "      <td>2021-01-10</td>\n",
       "      <td>7</td>\n",
       "      <td>Homicidio</td>\n",
       "      <td>Siniestro Vial</td>\n",
       "      <td>NaN</td>\n",
       "      <td>Parque Chacabuco</td>\n",
       "      <td>7.0</td>\n",
       "      <td>-34,62917196</td>\n",
       "      <td>-58,43058079</td>\n",
       "      <td>1.0</td>\n",
       "      <td>1</td>\n",
       "      <td>6</td>\n",
       "    </tr>\n",
       "    <tr>\n",
       "      <th>3</th>\n",
       "      <td>HC-2021-1014154</td>\n",
       "      <td>2021</td>\n",
       "      <td>2021-01-11</td>\n",
       "      <td>9</td>\n",
       "      <td>Homicidio</td>\n",
       "      <td>Siniestro Vial</td>\n",
       "      <td>NaN</td>\n",
       "      <td>Nueva Pompeya</td>\n",
       "      <td>5.0</td>\n",
       "      <td>-34,63867577</td>\n",
       "      <td>-58,4145554</td>\n",
       "      <td>1.0</td>\n",
       "      <td>1</td>\n",
       "      <td>0</td>\n",
       "    </tr>\n",
       "    <tr>\n",
       "      <th>4</th>\n",
       "      <td>HC-2021-1015476</td>\n",
       "      <td>2021</td>\n",
       "      <td>2021-01-11</td>\n",
       "      <td>21</td>\n",
       "      <td>Homicidio</td>\n",
       "      <td>Siniestro Vial</td>\n",
       "      <td>NaN</td>\n",
       "      <td>Parque Avellaneda</td>\n",
       "      <td>9.0</td>\n",
       "      <td>-34,64771436</td>\n",
       "      <td>-58,46806552</td>\n",
       "      <td>1.0</td>\n",
       "      <td>1</td>\n",
       "      <td>0</td>\n",
       "    </tr>\n",
       "  </tbody>\n",
       "</table>\n",
       "</div>"
      ],
      "text/plain": [
       "           id-mapa  anio      fecha franja       tipo         subtipo  \\\n",
       "0  HC-2021-1008202  2021 2021-01-06     18  Homicidio  Siniestro Vial   \n",
       "1  HC-2021-1009094  2021 2021-01-07     10  Homicidio  Siniestro Vial   \n",
       "2  HC-2021-1013236  2021 2021-01-10      7  Homicidio  Siniestro Vial   \n",
       "3  HC-2021-1014154  2021 2021-01-11      9  Homicidio  Siniestro Vial   \n",
       "4  HC-2021-1015476  2021 2021-01-11     21  Homicidio  Siniestro Vial   \n",
       "\n",
       "  uso_armas             barrio  comuna       latitud      longitud  cantidad  \\\n",
       "0       NaN       Constitución     1.0     -34,62761    -58,379146       1.0   \n",
       "1       NaN          Mataderos     9.0  -34,64972969  -58,51058958       1.0   \n",
       "2       NaN   Parque Chacabuco     7.0  -34,62917196  -58,43058079       1.0   \n",
       "3       NaN      Nueva Pompeya     5.0  -34,63867577   -58,4145554       1.0   \n",
       "4       NaN  Parque Avellaneda     9.0  -34,64771436  -58,46806552       1.0   \n",
       "\n",
       "   mes_num  dia_num  \n",
       "0        1        2  \n",
       "1        1        3  \n",
       "2        1        6  \n",
       "3        1        0  \n",
       "4        1        0  "
      ]
     },
     "execution_count": 113,
     "metadata": {},
     "output_type": "execute_result"
    }
   ],
   "source": [
    "df.head(5)"
   ]
  },
  {
   "cell_type": "markdown",
   "metadata": {},
   "source": [
    "#### Correlation between variables"
   ]
  },
  {
   "cell_type": "code",
   "execution_count": 116,
   "metadata": {},
   "outputs": [
    {
     "data": {
      "text/plain": [
       "array(['Homicidio', 'Lesiones', 'Robo (con violencia)',\n",
       "       'Hurto (sin violencia)'], dtype=object)"
      ]
     },
     "execution_count": 116,
     "metadata": {},
     "output_type": "execute_result"
    }
   ],
   "source": [
    "df.tipo.unique()"
   ]
  },
  {
   "cell_type": "code",
   "execution_count": 117,
   "metadata": {},
   "outputs": [],
   "source": [
    "#Create a dictionary with the severity to each crime type\n",
    "severity_dict = {'Hurto (sin violencia)':0,\n",
    "                 'Lesiones':1,\n",
    "                 'Robo (con violencia)':2,\n",
    "                 'Homicidio':3\n",
    "}\n",
    "\n",
    "#Assign the severity to each crime type\n",
    "df['severity'] = df['tipo'].map(severity_dict)"
   ]
  },
  {
   "cell_type": "code",
   "execution_count": 120,
   "metadata": {},
   "outputs": [
    {
     "data": {
      "image/png": "[encoded data removed]",
      "text/plain": [
       "<Figure size 432x288 with 2 Axes>"
      ]
     },
     "metadata": {
      "needs_background": "light"
     },
     "output_type": "display_data"
    }
   ],
   "source": [
    "#Analyze correlation between variables\n",
    "corr = df.corr()\n",
    "sns.heatmap(corr, xticklabels=corr.columns.values, yticklabels=corr.columns.values, annot=True, cmap='RdYlGn')\n",
    "plt.show()"
   ]
  },
  {
   "cell_type": "markdown",
   "metadata": {},
   "source": [
    "### dataset preparation\n",
    "we will be trying to estimate, according to the area of the city which type of crime is more probable to happen"
   ]
  },
  {
   "cell_type": "code",
   "execution_count": 126,
   "metadata": {},
   "outputs": [
    {
     "data": {
      "text/plain": [
       "Index(['id-mapa', 'anio', 'fecha', 'franja', 'tipo', 'subtipo', 'uso_armas',\n",
       "       'barrio', 'comuna', 'latitud', 'longitud', 'cantidad', 'mes_num',\n",
       "       'dia_num', 'severity'],\n",
       "      dtype='object')"
      ]
     },
     "execution_count": 126,
     "metadata": {},
     "output_type": "execute_result"
    }
   ],
   "source": [
    "df.columns"
   ]
  },
  {
   "cell_type": "code",
   "execution_count": 148,
   "metadata": {},
   "outputs": [
    {
     "name": "stdout",
     "output_type": "stream",
     "text": [
      "tipo             0\n",
      "severity         0\n",
      "franja           0\n",
      "mes_num          0\n",
      "dia_num          0\n",
      "uso_armas    78611\n",
      "barrio        1110\n",
      "comuna         593\n",
      "dtype: int64\n",
      "\n",
      "The quantity of rows before 88567 and after 8333 the missing values treatment\n"
     ]
    }
   ],
   "source": [
    "#for kmeans we will be using tipo as target variable and uso_armas,barrio,comuna,franja as predictors\n",
    "df_kmeans = df.copy(deep=True)\n",
    "df_kmeans = df_kmeans[['tipo','severity','franja','mes_num','dia_num','uso_armas','barrio','comuna']]\n",
    "\n",
    "#deal with missing values\n",
    "df_kmeans = df_kmeans[(df_kmeans['franja'] != 'SD') &\n",
    "                    (df_kmeans['franja'] != 'sd') ].reset_index(drop=True)\n",
    "\n",
    "#transform the franja variable to a numerical variable\n",
    "df_kmeans['franja'] = df_kmeans['franja'].astype(int)\n",
    "\n",
    "print(df_kmeans.isnull().sum())\n",
    "df_kmeans = df_kmeans.dropna().reset_index(drop=True)\n",
    "\n",
    "#see the shape of the dataset before and after the missing values treatment\n",
    "print(f'\\nThe quantity of rows before {df.shape[0]} and after {df_kmeans.shape[0]} the missing values treatment')"
   ]
  },
  {
   "cell_type": "markdown",
   "metadata": {},
   "source": [
    "##### Encoding categorical data"
   ]
  },
  {
   "cell_type": "code",
   "execution_count": 149,
   "metadata": {},
   "outputs": [],
   "source": [
    "#Using sckit-learn's LabelEncoder for the barrio categorical feature\n",
    "from sklearn.preprocessing import LabelEncoder\n",
    "\n",
    "# Set up the LabelEncoder object\n",
    "enc = LabelEncoder()\n",
    "\n",
    "#Apply the encoding to the barrio feature\n",
    "df_kmeans['barrio_enc'] = enc.fit_transform(df_kmeans['barrio'])\n",
    "\n",
    "#Apply the encoding to the uso_armas feature\n",
    "df_kmeans['uso_armas_enc'] = enc.fit_transform(df_kmeans['uso_armas'])"
   ]
  },
  {
   "cell_type": "code",
   "execution_count": 150,
   "metadata": {},
   "outputs": [
    {
     "name": "stdout",
     "output_type": "stream",
     "text": [
      "The two columns of barrio before and after the encoding\n",
      "             barrio  barrio_enc\n",
      "0           Liniers          14\n",
      "1            Retiro          28\n",
      "2         Versalles          33\n",
      "3  Parque Chacabuco          22\n",
      "4          Belgrano           4\n",
      "\n",
      "\n",
      "The two columns of uso_armas before and after the encoding\n",
      "       uso_armas  uso_armas_enc\n",
      "0  Arma cortante              0\n",
      "1  Arma cortante              0\n",
      "2  Arma cortante              0\n",
      "3  Arma de fuego              1\n",
      "4  Arma de fuego              1\n"
     ]
    }
   ],
   "source": [
    "# Compare the two columns (sckit label encoder)\n",
    "print('The two columns of barrio before and after the encoding')\n",
    "print(df_kmeans[['barrio','barrio_enc']].head())\n",
    "print('\\n')\n",
    "print('The two columns of uso_armas before and after the encoding')\n",
    "print(df_kmeans[['uso_armas','uso_armas_enc']].head())"
   ]
  },
  {
   "cell_type": "code",
   "execution_count": 152,
   "metadata": {},
   "outputs": [
    {
     "data": {
      "image/png": "[encoded data removed]",
      "text/plain": [
       "<Figure size 432x288 with 2 Axes>"
      ]
     },
     "metadata": {
      "needs_background": "light"
     },
     "output_type": "display_data"
    }
   ],
   "source": [
    "#Analyze again the correlation of the variables with the new encoding\n",
    "corr = df_kmeans.corr()\n",
    "sns.heatmap(corr, xticklabels=corr.columns.values, yticklabels=corr.columns.values, annot=True, cmap='RdYlGn')\n",
    "plt.show()"
   ]
  },
  {
   "cell_type": "markdown",
   "metadata": {},
   "source": [
    "### K-Means ###"
   ]
  },
  {
   "cell_type": "code",
   "execution_count": 11,
   "metadata": {},
   "outputs": [],
   "source": [
    "# Import KNeighborsClassifier from sklearn.neighbors\n",
    "from sklearn.neighbors import KNeighborsClassifier"
   ]
  },
  {
   "cell_type": "code",
   "execution_count": 87,
   "metadata": {},
   "outputs": [],
   "source": [
    "# Create arrays for the features and the response variable\n",
    "x = df_kmeans.drop(['tipo','barrio','uso_armas'], axis=1).values\n",
    "y = df_kmeans['tipo'].values"
   ]
  },
  {
   "cell_type": "code",
   "execution_count": 88,
   "metadata": {},
   "outputs": [],
   "source": [
    "# Create a k-NN classifier with 6 neighbors\n",
    "knn = KNeighborsClassifier(n_neighbors = 6)"
   ]
  },
  {
   "cell_type": "code",
   "execution_count": 89,
   "metadata": {},
   "outputs": [
    {
     "data": {
      "text/plain": [
       "KNeighborsClassifier(n_neighbors=6)"
      ]
     },
     "execution_count": 89,
     "metadata": {},
     "output_type": "execute_result"
    }
   ],
   "source": [
    "# Fit the classifier to the data\n",
    "knn.fit(x,y)"
   ]
  },
  {
   "cell_type": "code",
   "execution_count": null,
   "metadata": {},
   "outputs": [],
   "source": []
  }
 ],
 "metadata": {
  "interpreter": {
   "hash": "cb045d34396eb68d3c97b297eb30da544520434b295ef56e66614836264de86a"
  },
  "kernelspec": {
   "display_name": "Python 3.6.12 ('mne3')",
   "language": "python",
   "name": "python3"
  },
  "language_info": {
   "codemirror_mode": {
    "name": "ipython",
    "version": 3
   },
   "file_extension": ".py",
   "mimetype": "text/x-python",
   "name": "python",
   "nbconvert_exporter": "python",
   "pygments_lexer": "ipython3",
   "version": "3.6.12"
  },
  "orig_nbformat": 4
 },
 "nbformat": 4,
 "nbformat_minor": 2
}
